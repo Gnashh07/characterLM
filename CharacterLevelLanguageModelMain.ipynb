{
  "cells": [
    {
      "cell_type": "code",
      "execution_count": 34,
      "metadata": {
        "id": "5In8c6h_HihO"
      },
      "outputs": [],
      "source": [
        "import torch\n",
        "import torch.nn.functional as F\n",
        "import matplotlib.pyplot as plt\n",
        "%matplotlib inline"
      ]
    },
    {
      "cell_type": "code",
      "execution_count": 35,
      "metadata": {
        "id": "po9rk0b6KKu_"
      },
      "outputs": [],
      "source": [
        "import requests\n",
        "\n",
        "# Define the URL of the file\n",
        "url = \"https://raw.githubusercontent.com/karpathy/makemore/master/names.txt\"\n",
        "\n",
        "# Send a GET request to download the file\n",
        "response = requests.get(url)\n",
        "\n",
        "# Write the content to a local file named 'names.txt'\n",
        "with open('names.txt', 'wb') as f:\n",
        "    f.write(response.content)\n",
        "\n",
        "# Read the file in read mode and split the lines into a list\n",
        "words = open('names.txt', 'r').read().splitlines()"
      ]
    },
    {
      "cell_type": "code",
      "execution_count": 36,
      "metadata": {
        "colab": {
          "base_uri": "https://localhost:8080/"
        },
        "id": "e-iZBiBnKQUN",
        "outputId": "fe8a2197-0d58-4a35-e9dd-a45fb59756bc"
      },
      "outputs": [
        {
          "name": "stdout",
          "output_type": "stream",
          "text": [
            "32033\n",
            "15\n",
            "['emma', 'olivia', 'ava', 'isabella', 'sophia', 'charlotte', 'mia', 'amelia']\n"
          ]
        }
      ],
      "source": [
        "words = open('names.txt', 'r').read().splitlines() #converts the .txt file into a list\n",
        "print(len(words))\n",
        "print(max(len(w) for w in words))  \n",
        "print(words[:8])"
      ]
    },
    {
      "cell_type": "code",
      "execution_count": 37,
      "metadata": {
        "colab": {
          "base_uri": "https://localhost:8080/"
        },
        "id": "SKDIeB-GKQ9U",
        "outputId": "8f6524e9-3744-437c-cde2-7f4666850f08"
      },
      "outputs": [
        {
          "name": "stdout",
          "output_type": "stream",
          "text": [
            "{1: 'a', 2: 'b', 3: 'c', 4: 'd', 5: 'e', 6: 'f', 7: 'g', 8: 'h', 9: 'i', 10: 'j', 11: 'k', 12: 'l', 13: 'm', 14: 'n', 15: 'o', 16: 'p', 17: 'q', 18: 'r', 19: 's', 20: 't', 21: 'u', 22: 'v', 23: 'w', 24: 'x', 25: 'y', 26: 'z', 0: '.'}\n",
            "27\n"
          ]
        }
      ],
      "source": [
        "chars = sorted(list(set(''.join(words)))) #joins all the words into a single string, removes duplicates and converts them into a list and sorts it.\n",
        "stoi = {s:i+1 for i,s in enumerate(chars)} #creates a dictionary by Creating an iterator that returns both the index (i) and the character (s) of each element in the chars list.\n",
        "stoi['.'] = 0\n",
        "itos = {i:s for s,i in stoi.items()} #.items() used to access and iterate through the key-value pairs of the stoi\n",
        "vocab_size = len(itos)\n",
        "print(itos)\n",
        "print(vocab_size)"
      ]
    },
    {
      "cell_type": "code",
      "execution_count": 38,
      "metadata": {
        "id": "bcCJmlo3tsBM"
      },
      "outputs": [],
      "source": [
        "import random\n",
        "random.seed(42)\n",
        "random.shuffle(words)"
      ]
    },
    {
      "cell_type": "code",
      "execution_count": 39,
      "metadata": {
        "colab": {
          "base_uri": "https://localhost:8080/"
        },
        "id": "vCE6XQjrKTQp",
        "outputId": "de62bbc1-83d5-4b91-a68a-c936d10b321a"
      },
      "outputs": [
        {
          "name": "stdout",
          "output_type": "stream",
          "text": [
            "torch.Size([182580, 8]) torch.Size([182580])\n",
            "torch.Size([22767, 8]) torch.Size([22767])\n",
            "torch.Size([22799, 8]) torch.Size([22799])\n"
          ]
        }
      ],
      "source": [
        "# build the dataset\n",
        "block_size = 8 # context length: how many characters do we take to predict the next one?\n",
        "\n",
        "def build_dataset(words):\n",
        "  X, Y = [], []\n",
        "\n",
        "  for w in words:\n",
        "    context = [0] * block_size\n",
        "    for ch in w + '.':\n",
        "      ix = stoi[ch]\n",
        "      X.append(context)\n",
        "      Y.append(ix)\n",
        "      context = context[1:] + [ix] # crop and append\n",
        "\n",
        "  X = torch.tensor(X)\n",
        "  Y = torch.tensor(Y)\n",
        "  print(X.shape, Y.shape)\n",
        "  return X, Y\n",
        "\n",
        "import random\n",
        "random.seed(42)\n",
        "random.shuffle(words)\n",
        "n1 = int(0.8*len(words))\n",
        "n2 = int(0.9*len(words))\n",
        "\n",
        "Xtr,  Ytr  = build_dataset(words[:n1])     # 80%\n",
        "Xdev, Ydev = build_dataset(words[n1:n2])   # 10%\n",
        "Xte,  Yte  = build_dataset(words[n2:])     # 10%"
      ]
    },
    {
      "cell_type": "code",
      "execution_count": 40,
      "metadata": {
        "colab": {
          "base_uri": "https://localhost:8080/"
        },
        "id": "ND-86-tPKVz3",
        "outputId": "d1b5ad72-3343-4ec1-8bc5-caa3383064a6"
      },
      "outputs": [
        {
          "name": "stdout",
          "output_type": "stream",
          "text": [
            "........ --> e\n",
            ".......e --> b\n",
            "......eb --> r\n",
            ".....ebr --> i\n",
            "....ebri --> m\n",
            "...ebrim --> a\n",
            "..ebrima --> .\n",
            "........ --> h\n",
            ".......h --> i\n",
            "......hi --> l\n",
            ".....hil --> t\n",
            "....hilt --> o\n",
            "...hilto --> n\n",
            "..hilton --> .\n",
            "........ --> j\n",
            ".......j --> h\n",
            "......jh --> e\n",
            ".....jhe --> n\n",
            "....jhen --> e\n",
            "...jhene --> .\n"
          ]
        }
      ],
      "source": [
        "for x,y in zip(Xtr[:20], Ytr[:20]): #zip() takes iterables (like lists here) and combines them into a single iterable of tuples.\n",
        "  print(''.join(itos[ix.item()] for ix in x), '-->', itos[y.item()])"
      ]
    },
    {
      "cell_type": "code",
      "execution_count": 41,
      "metadata": {
        "id": "f3KpM3sL1AOu"
      },
      "outputs": [],
      "source": [
        "class Linear:\n",
        "\n",
        "  def __init__(self, fan_in, fan_out, bias=True):\n",
        "    self.weight = torch.randn((fan_in, fan_out)) / fan_in**0.5 # note: kaiming init\n",
        "    self.bias = torch.zeros(fan_out) if bias else None\n",
        "\n",
        "  def __call__(self, x):\n",
        "    self.out = x @ self.weight\n",
        "    if self.bias is not None:\n",
        "      self.out += self.bias\n",
        "    return self.out\n",
        "\n",
        "  def parameters(self):\n",
        "    return [self.weight] + ([] if self.bias is None else [self.bias])\n",
        "\n",
        "class BatchNorm1d:\n",
        "\n",
        "  def __init__(self, dim, eps=1e-5, momentum=0.1): #eps is used in denominator for numerical stability.\n",
        "    self.eps = eps\n",
        "    self.momentum = momentum\n",
        "    self.training = True\n",
        "    # parameters (trained with backprop)\n",
        "    self.gamma = torch.ones(dim)\n",
        "    self.beta = torch.zeros(dim)\n",
        "    # buffers (trained with a running 'momentum update')\n",
        "    self.running_mean = torch.zeros(dim)\n",
        "    self.running_var = torch.ones(dim)\n",
        "\n",
        "  def __call__(self, x):\n",
        "    # calculate the forward pass\n",
        "    if self.training:\n",
        "      if x.ndim == 2: #(batch size, features)\n",
        "        dim = 0\n",
        "      elif x.ndim == 3: #(batch size, sequence length, features)\n",
        "        dim = (0,1)\n",
        "      xmean = x.mean(dim, keepdim=True)\n",
        "      xvar = x.var(dim, keepdim=True)\n",
        "    else:\n",
        "      xmean = self.running_mean\n",
        "      xvar = self.running_var\n",
        "    xhat = (x - xmean) / torch.sqrt(xvar + self.eps) # normalize to unit variance\n",
        "    self.out = self.gamma * xhat + self.beta\n",
        "    # update the buffers\n",
        "    if self.training:\n",
        "      with torch.no_grad():\n",
        "        self.running_mean = (1 - self.momentum) * self.running_mean + self.momentum * xmean\n",
        "        self.running_var = (1 - self.momentum) * self.running_var + self.momentum * xvar\n",
        "    return self.out\n",
        "\n",
        "  def parameters(self):\n",
        "    return [self.gamma, self.beta]\n",
        "\n",
        "class Tanh:\n",
        "  def __call__(self, x):\n",
        "    self.out = torch.tanh(x) #-1 to 1 (activation function) #why do we use activation functions?????\n",
        "    return self.out\n",
        "  def parameters(self):\n",
        "    return []\n",
        "\n",
        "class Embedding:\n",
        "\n",
        "  def __init__(self, num_embeddings, embedding_dim):\n",
        "    self.weight = torch.randn((num_embeddings, embedding_dim)) #similar to C = torch.randn((vocab_size, n_embd))\n",
        "\n",
        "  def __call__(self, IX):\n",
        "    self.out = self.weight[IX] #similar to emb = C[Xb]\n",
        "    return self.out\n",
        "\n",
        "  def parameters(self):\n",
        "    return [self.weight]\n",
        "\n",
        "class FlattenConsecutive:\n",
        "\n",
        "  def __init__(self, n): #n = number of elements we want to concentate\n",
        "    self.n = n\n",
        "\n",
        "  def __call__(self, x):\n",
        "    B, T, C = x.shape #(4,8,10) #(batch size, sequence length, features)\n",
        "    x = x.view(B, T//self.n, C*self.n)\n",
        "    if x.shape[1] == 1:\n",
        "      x = x.squeeze(1) #why?\n",
        "    self.out = x\n",
        "    return self.out\n",
        "\n",
        "  def parameters(self):\n",
        "    return []\n",
        "\n",
        "class Sequential:\n",
        "\n",
        "  def __init__(self, layers):\n",
        "    self.layers = layers\n",
        "\n",
        "  def __call__(self, x):\n",
        "    for layer in self.layers:\n",
        "      x = layer(x) #this is basically the forward pass\n",
        "    self.out = x\n",
        "    return self.out\n",
        "\n",
        "  def parameters(self):\n",
        "    #get parameters of all layers and stretch them out into one list\n",
        "    return [p for layer in self.layers for p in layer.parameters()]\n"
      ]
    },
    {
      "cell_type": "code",
      "execution_count": 42,
      "metadata": {
        "colab": {
          "base_uri": "https://localhost:8080/"
        },
        "id": "ofHGZmOC1nkl",
        "outputId": "211b7025-6af9-44b4-e4ab-02a37e0eb12c"
      },
      "outputs": [
        {
          "data": {
            "text/plain": [
              "<torch._C.Generator at 0x22064469830>"
            ]
          },
          "execution_count": 42,
          "metadata": {},
          "output_type": "execute_result"
        }
      ],
      "source": [
        "torch.manual_seed(42)"
      ]
    },
    {
      "cell_type": "code",
      "execution_count": 43,
      "metadata": {
        "colab": {
          "base_uri": "https://localhost:8080/"
        },
        "id": "ChH1uueT19M5",
        "outputId": "2fd65617-f7fa-4061-8d83-b7b4b517ae9b"
      },
      "outputs": [
        {
          "name": "stdout",
          "output_type": "stream",
          "text": [
            "76579\n"
          ]
        }
      ],
      "source": [
        "n_embd = 24 # Number of dimensions for token embeddings. Each token is represented as a vector of size n_embd in the embedding space.\n",
        "n_hidden = 128 # the number of neurons in the hidden layer of the MLP\n",
        "\n",
        "model = Sequential ([\n",
        "    Embedding(vocab_size, n_embd),\n",
        "    FlattenConsecutive(2), Linear(n_embd * 2, n_hidden, bias = False), BatchNorm1d(n_hidden), Tanh(),\n",
        "    FlattenConsecutive(2), Linear(n_hidden * 2, n_hidden, bias = False), BatchNorm1d(n_hidden), Tanh(),\n",
        "    FlattenConsecutive(2), Linear(n_hidden * 2, n_hidden, bias = False), BatchNorm1d(n_hidden), Tanh(),\n",
        "    Linear(n_hidden, vocab_size),\n",
        "])\n",
        "\n",
        "#parameter init\n",
        "\n",
        "with torch.no_grad():\n",
        "  model.layers[-1].weight *= 0.1 #make the last layer less confident. This scaling is often done to adjust for specific initialization schemes or ensure proper signal propagation through the network.\n",
        "\n",
        "parameters = model.parameters() #Collects all the trainable parameters of the model into a single list (parameters)\n",
        "print(sum(p.nelement() for p in parameters)) #Computes and prints the total number of trainable parameters. Useful for debugging and estimating computational/memory requirements\n",
        "for p in parameters:\n",
        "  p.requires_grad = True"
      ]
    },
    {
      "cell_type": "code",
      "execution_count": 44,
      "metadata": {
        "colab": {
          "base_uri": "https://localhost:8080/"
        },
        "id": "7U0h0Qqw3FvX",
        "outputId": "44badf7b-5698-43a3-fd79-c62c0b27057e"
      },
      "outputs": [
        {
          "name": "stdout",
          "output_type": "stream",
          "text": [
            "      0/ 200000: 3.3088\n",
            "  10000/ 200000: 2.4522\n",
            "  20000/ 200000: 2.1598\n",
            "  30000/ 200000: 2.6426\n",
            "  40000/ 200000: 1.8248\n",
            "  50000/ 200000: 2.5059\n",
            "  60000/ 200000: 2.1407\n",
            "  70000/ 200000: 1.8225\n",
            "  80000/ 200000: 2.0721\n",
            "  90000/ 200000: 1.7828\n",
            " 100000/ 200000: 2.0264\n",
            " 110000/ 200000: 2.0252\n",
            " 120000/ 200000: 1.8361\n",
            " 130000/ 200000: 1.8881\n",
            " 140000/ 200000: 1.7401\n",
            " 150000/ 200000: 1.9735\n",
            " 160000/ 200000: 1.7228\n",
            " 170000/ 200000: 1.9166\n",
            " 180000/ 200000: 2.3637\n",
            " 190000/ 200000: 1.7630\n"
          ]
        }
      ],
      "source": [
        "max_steps = 200000\n",
        "batch_size = 32\n",
        "lossi = []\n",
        "\n",
        "for i in range(max_steps):\n",
        "\n",
        "  #minibatch construct\n",
        "  ix = torch.randint(0, Xtr.shape[0], (batch_size,))\n",
        "  Xb, Yb = Xtr[ix], Ytr[ix] #batch X,Y\n",
        "\n",
        "  #forward pass\n",
        "  logits = model(Xb) #logits are the outputs of the model\n",
        "  loss = F.cross_entropy(logits, Yb) #loss function\n",
        "\n",
        "  #backward pass\n",
        "  for p in parameters:\n",
        "    p.grad = None\n",
        "  loss.backward()\n",
        "\n",
        "  #update: simple SGD\n",
        "  lr = 0.1 if i < 150000 else 0.01 # step learning rate decay\n",
        "  for p in parameters:\n",
        "    p.data += -lr * p.grad # he model's parameters (weights) are updated based on the gradients computed during backpropagation.\n",
        "\n",
        "  #track stats\n",
        "  if i % 10000 == 0:\n",
        "    print(f'{i:7d}/{max_steps:7d}: {loss.item():.4f}')\n",
        "  lossi.append(loss.log10().item())"
      ]
    },
    {
      "cell_type": "code",
      "execution_count": 45,
      "metadata": {
        "colab": {
          "base_uri": "https://localhost:8080/",
          "height": 448
        },
        "id": "fMAjWsMP6X5w",
        "outputId": "ee775dd3-9275-4d82-98bd-711ee942b1ac"
      },
      "outputs": [
        {
          "data": {
            "text/plain": [
              "[<matplotlib.lines.Line2D at 0x2206a9681a0>]"
            ]
          },
          "execution_count": 45,
          "metadata": {},
          "output_type": "execute_result"
        },
        {
          "data": {
            "image/png": "[encoded data removed]",
            "text/plain": [
              "<Figure size 640x480 with 1 Axes>"
            ]
          },
          "metadata": {},
          "output_type": "display_data"
        }
      ],
      "source": [
        "plt.plot(torch.tensor(lossi).view(-1,1000).mean(1)) #the average loss values over chunks of 1000 iterations"
      ]
    },
    {
      "cell_type": "code",
      "execution_count": 46,
      "metadata": {
        "id": "YZJ1C5Hw6fIy"
      },
      "outputs": [],
      "source": [
        "#put layer into eval mode (needed for batchnorm especially)\n",
        "for layer in model.layers:\n",
        "  layer.training = False"
      ]
    },
    {
      "cell_type": "code",
      "execution_count": 47,
      "metadata": {
        "colab": {
          "base_uri": "https://localhost:8080/"
        },
        "id": "mzRNikgS6j2X",
        "outputId": "fe576f54-18d7-4057-e95e-9989ff041d6e"
      },
      "outputs": [
        {
          "name": "stdout",
          "output_type": "stream",
          "text": [
            "train 1.7669140100479126\n",
            "val 1.9844632148742676\n"
          ]
        }
      ],
      "source": [
        "# evaluate the loss\n",
        "@torch.no_grad() # this decorator disables gradient tracking inside pytorch\n",
        "def split_loss(split):\n",
        "  x,y = {\n",
        "    'train': (Xtr, Ytr),\n",
        "    'val': (Xdev, Ydev),\n",
        "    'test': (Xte, Yte),\n",
        "  }[split]\n",
        "  logits = model(x)\n",
        "  loss = F.cross_entropy(logits,y) #look into cross entropy\n",
        "  print(split, loss.item())\n",
        "\n",
        "split_loss('train')\n",
        "split_loss('val')"
      ]
    },
    {
      "cell_type": "code",
      "execution_count": 50,
      "metadata": {
        "colab": {
          "base_uri": "https://localhost:8080/"
        },
        "id": "iLrHOvbn7RFy",
        "outputId": "663d0704-5f86-48e9-b643-bee052750596"
      },
      "outputs": [
        {
          "name": "stdout",
          "output_type": "stream",
          "text": [
            "rohan.\n",
            "jafton.\n",
            "anabella.\n",
            "harleen.\n",
            "ramell.\n",
            "leanin.\n",
            "betuan.\n",
            "husain.\n",
            "orlyanna.\n",
            "bamy.\n",
            "osyn.\n",
            "jamichy.\n",
            "calbisaa.\n",
            "bralyn.\n",
            "marykatheri.\n",
            "jenami.\n",
            "syrone.\n",
            "pencello.\n",
            "uri.\n",
            "ayoam.\n"
          ]
        }
      ],
      "source": [
        "# sample from the model\n",
        "for _ in range(20):\n",
        "\n",
        "    out = []\n",
        "    context = [0] * block_size # initialize with all ...\n",
        "    while True:\n",
        "      # forward pass the neural net\n",
        "      logits = model(torch.tensor([context])) # (1, block_size, n_embd)\n",
        "      probs = F.softmax(logits, dim=1) #y applying softmax, you get probabilities that can be used to sample the next character.\n",
        "      # sample from the distribution\n",
        "      ix = torch.multinomial(probs, num_samples=1).item()\n",
        "      # shift the context window and track the samples\n",
        "      context = context[1:] + [ix]\n",
        "      out.append(ix)\n",
        "      # if we sample the special '.' token, break\n",
        "      if ix == 0:\n",
        "        break\n",
        "\n",
        "    print(''.join(itos[i] for i in out)) # decode and print the generated word"
      ]
    },
    {
      "cell_type": "code",
      "execution_count": 49,
      "metadata": {},
      "outputs": [
        {
          "data": {
            "image/png": "[encoded data removed]",
            "text/plain": [
              "<Figure size 800x800 with 1 Axes>"
            ]
          },
          "metadata": {},
          "output_type": "display_data"
        }
      ],
      "source": [
        "# Extract the embedding weights\n",
        "C = model.layers[0].weight  # Assuming the Embedding layer is the first layer in your Sequential model\n",
        "\n",
        "# Visualize dimensions 0 and 1 of the embedding matrix C for all characters\n",
        "plt.figure(figsize=(8, 8))\n",
        "plt.scatter(C[:, 0].data, C[:, 1].data, s=200, c='red', alpha=0.8)\n",
        "for i in range(C.shape[0]):\n",
        "    plt.text(C[i, 0].item(), C[i, 1].item(), itos[i], ha=\"center\", va=\"center\", color='white')\n",
        "plt.title(\"Visualization of the Embedding Matrix (Dimensions 0 and 1)\", fontsize=14)\n",
        "plt.xlabel(\"Dimension 0\", fontsize=12)\n",
        "plt.ylabel(\"Dimension 1\", fontsize=12)\n",
        "plt.grid(visible=True, which='both', linestyle='--', linewidth=0.5)\n",
        "plt.show()\n"
      ]
    }
  ],
  "metadata": {
    "accelerator": "GPU",
    "colab": {
      "gpuType": "T4",
      "provenance": []
    },
    "kernelspec": {
      "display_name": "Python 3",
      "name": "python3"
    },
    "language_info": {
      "codemirror_mode": {
        "name": "ipython",
        "version": 3
      },
      "file_extension": ".py",
      "mimetype": "text/x-python",
      "name": "python",
      "nbconvert_exporter": "python",
      "pygments_lexer": "ipython3",
      "version": "3.12.6"
    }
  },
  "nbformat": 4,
  "nbformat_minor": 0
}
